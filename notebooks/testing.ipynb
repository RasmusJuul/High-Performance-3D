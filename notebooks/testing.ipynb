{
 "cells": [
  {
   "cell_type": "code",
   "execution_count": 3,
   "id": "504bc7be-12df-444c-9776-629b85c672a3",
   "metadata": {},
   "outputs": [],
   "source": [
    "import pytorch_lightning as pl"
   ]
  },
  {
   "cell_type": "code",
   "execution_count": null,
   "id": "44277d9a-9d56-423f-9fdd-d8ad665bfdfe",
   "metadata": {},
   "outputs": [],
   "source": [
    "from pytorch_lightning.pytorch.strategies import DeepSpeedStrategy"
   ]
  },
  {
   "cell_type": "code",
   "execution_count": null,
   "id": "58c46272-3966-4730-8dfa-c2e2a142497a",
   "metadata": {},
   "outputs": [],
   "source": [
    "pl.strategies.DeepSpeedStrategy"
   ]
  }
 ],
 "metadata": {
  "kernelspec": {
   "display_name": "3d",
   "language": "python",
   "name": "3d"
  },
  "language_info": {
   "codemirror_mode": {
    "name": "ipython",
    "version": 3
   },
   "file_extension": ".py",
   "mimetype": "text/x-python",
   "name": "python",
   "nbconvert_exporter": "python",
   "pygments_lexer": "ipython3",
   "version": "3.10.7"
  }
 },
 "nbformat": 4,
 "nbformat_minor": 5
}
