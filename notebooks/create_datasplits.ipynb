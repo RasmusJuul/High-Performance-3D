{
 "cells": [
  {
   "cell_type": "code",
   "execution_count": 3,
   "id": "87c74aaa-2680-4016-beac-04100b2896f8",
   "metadata": {},
   "outputs": [],
   "source": [
    "import os\n",
    "import pandas as pd\n",
    "from src import _PATH_DATA"
   ]
  },
  {
   "cell_type": "code",
   "execution_count": 6,
   "id": "e3902a26-4c20-46c3-be92-13fa0ea852aa",
   "metadata": {},
   "outputs": [],
   "source": [
    "DATASET_PATH = os.path.join(_PATH_DATA,\"raw/Bugs/bugnist_256\")\n",
    "\n",
    "folders = [name for name in os.listdir(DATASET_PATH) if os.path.isdir(os.path.join(DATASET_PATH, name))]\n",
    "files = [f\"{folder}/{file}\" for folder in folders for file in os.listdir(f\"{DATASET_PATH}/{folder}\")]\n",
    "# write files as csv\n",
    "with open(f\"{DATASET_PATH}/files.csv\", \"w\") as f:\n",
    "    f.write(\"files\\n\")\n",
    "    f.write(\"\\n\".join(files))"
   ]
  },
  {
   "cell_type": "code",
   "execution_count": 15,
   "id": "221f5db8-fa28-46fe-8b0a-3419bb750dbf",
   "metadata": {},
   "outputs": [],
   "source": [
    "CSV_PATH = \"../data/raw/Bugs/bugnist_256/files.csv\"\n",
    "VALIDATION_PATH = \"../data/raw/Bugs/bugnist_256/validation.csv\"\n",
    "TRAIN_PATH = \"../data/raw/Bugs/bugnist_256/train.csv\"\n",
    "TEST_PATH = \"../data/raw/Bugs/bugnist_256/test.csv\"\n",
    "SAMPLE_PERCENTAGE = 0.20\n",
    "\n",
    "# SEED = 9000 + 4206969420\n",
    "SEED = 8963514\n",
    "\n",
    "# Avoid accidentally overwriting data\n",
    "error: str = \"\"\n",
    "if os.path.exists(VALIDATION_PATH):\n",
    "    error = f\"{VALIDATION_PATH} already exists. \"\n",
    "if os.path.exists(TRAIN_PATH):\n",
    "    error += f\"{TRAIN_PATH} already exists. \"\n",
    "    \n",
    "if os.path.exists(TEST_PATH):\n",
    "    error += f\"{TEST_PATH} already exists. \"\n",
    "\n",
    "if not os.path.exists(CSV_PATH):\n",
    "    error += f\"CSV path {CSV_PATH} does not exist. \"\n",
    "\n",
    "if SAMPLE_PERCENTAGE < 0 or SAMPLE_PERCENTAGE > 1:\n",
    "    error += f\"Sample percentage {SAMPLE_PERCENTAGE} is not between 0 and 1. \"\n",
    "\n",
    "if error:\n",
    "    raise ValueError(error.strip())\n",
    "\n",
    "original_csv = pd.read_csv(CSV_PATH)\n",
    "\n",
    "labels = original_csv[\"files\"].map(lambda x: x[0:2])\n",
    "grouped = original_csv.groupby(labels.values)\n",
    "test_subset = grouped.sample(frac=SAMPLE_PERCENTAGE, random_state=SEED)\n",
    "\n",
    "test_subset.to_csv(TEST_PATH, index=False)\n",
    "\n",
    "difference = original_csv.index.difference(test_subset.index)\n",
    "original_without_test_subset = original_csv.loc[difference]\n",
    "\n",
    "\n",
    "labels = original_without_test_subset[\"files\"].map(lambda x: x[0:2])\n",
    "grouped = original_without_test_subset.groupby(labels.values)\n",
    "val_subset = grouped.sample(frac=SAMPLE_PERCENTAGE, random_state=SEED)\n",
    "\n",
    "val_subset.to_csv(VALIDATION_PATH, index=False)\n",
    "\n",
    "difference = original_without_test_subset.index.difference(val_subset.index)\n",
    "train_subset = original_without_test_subset.loc[difference]\n",
    "\n",
    "train_subset.to_csv(TRAIN_PATH, index=False)"
   ]
  }
 ],
 "metadata": {
  "kernelspec": {
   "display_name": "3d",
   "language": "python",
   "name": "3d"
  },
  "language_info": {
   "codemirror_mode": {
    "name": "ipython",
    "version": 3
   },
   "file_extension": ".py",
   "mimetype": "text/x-python",
   "name": "python",
   "nbconvert_exporter": "python",
   "pygments_lexer": "ipython3",
   "version": "3.10.7"
  }
 },
 "nbformat": 4,
 "nbformat_minor": 5
}
